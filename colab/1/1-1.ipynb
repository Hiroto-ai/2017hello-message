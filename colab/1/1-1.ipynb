{
  "cells": [
    {
      "cell_type": "markdown",
      "metadata": {
        "id": "Nx-IzLOcODq1"
      },
      "source": [
        "# 1-1. 数値演算\n",
        "数値演算について説明します。\n",
        "\n",
        "参考\n",
        "\n",
        "- https://docs.python.org/ja/3/tutorial/introduction.html#using-python-as-a-calculator\n",
        "- https://docs.python.org/ja/3/tutorial/modules.html\n",
        "- https://docs.python.org/ja/3/library/numeric.html\n",
        "- https://docs.python.org/ja/3/library/math.html"
      ]
    },
    {
      "cell_type": "markdown",
      "metadata": {
        "id": "3EBwQ7kxODq5"
      },
      "source": [
        "## 簡単な算術計算\n",
        "\n",
        "CodeセルにPythonの式を入力して、プレイボタンを押すか、\n",
        "Shiftを押しながらEnterを押すと、式が評価され、その結果の値がセルの下に挿入されます。\n",
        "\n",
        "1+1 の計算をしてみましょう。次のセルに `1+1` と入力して、\n",
        "Shiftを押しながらEnterを押してください。"
      ]
    },
    {
      "cell_type": "code",
      "execution_count": 1,
      "metadata": {
        "id": "ZSSf3MbLODq6",
        "outputId": "68693cd5-19cb-468c-db39-4bd4fd195086",
        "colab": {
          "base_uri": "https://localhost:8080/"
        }
      },
      "outputs": [
        {
          "output_type": "execute_result",
          "data": {
            "text/plain": [
              "2"
            ]
          },
          "metadata": {},
          "execution_count": 1
        }
      ],
      "source": [
        "1+1"
      ]
    },
    {
      "cell_type": "markdown",
      "metadata": {
        "id": "ArlVBb8QODq7"
      },
      "source": [
        "このようにして、電卓の代わりにPythonを使うことができます。**`+`** は言うまでもなく**足し算**を表しています。"
      ]
    },
    {
      "cell_type": "code",
      "execution_count": 2,
      "metadata": {
        "id": "eZtSJfZjODq8",
        "outputId": "71d47105-c070-495d-bd86-714ea1746f44",
        "colab": {
          "base_uri": "https://localhost:8080/"
        }
      },
      "outputs": [
        {
          "output_type": "execute_result",
          "data": {
            "text/plain": [
              "5"
            ]
          },
          "metadata": {},
          "execution_count": 2
        }
      ],
      "source": [
        "7-2"
      ]
    },
    {
      "cell_type": "code",
      "execution_count": 3,
      "metadata": {
        "id": "jsKXhSTaODq-",
        "outputId": "2bd00cbe-db31-4d21-acc4-40e7375cfd65",
        "colab": {
          "base_uri": "https://localhost:8080/"
        }
      },
      "outputs": [
        {
          "output_type": "execute_result",
          "data": {
            "text/plain": [
              "14"
            ]
          },
          "metadata": {},
          "execution_count": 3
        }
      ],
      "source": [
        "7*2"
      ]
    },
    {
      "cell_type": "code",
      "execution_count": 4,
      "metadata": {
        "id": "4Ib04bLNODq-",
        "outputId": "3ba8e864-dbeb-4e35-b42c-b793920713a4",
        "colab": {
          "base_uri": "https://localhost:8080/"
        }
      },
      "outputs": [
        {
          "output_type": "execute_result",
          "data": {
            "text/plain": [
              "49"
            ]
          },
          "metadata": {},
          "execution_count": 4
        }
      ],
      "source": [
        "7**2"
      ]
    },
    {
      "cell_type": "markdown",
      "metadata": {
        "id": "QmyQeWciODq_"
      },
      "source": [
        "**`-`** は**引き算**、**`*`** は**掛け算**、**`**`** は**べき乗**を表しています。\n",
        "\n",
        "式を適当に書き換えてから、Shiftを押しながらEnterを押すと、\n",
        "書き換えた後の式が評価されて、セルの下の値はその結果で置き換わります。\n",
        "たとえば、上の `2` を `100` に書き換えて、7の100乗を求めてみてください。"
      ]
    },
    {
      "cell_type": "markdown",
      "metadata": {
        "id": "YD-psBXfODrA"
      },
      "source": [
        "割り算はどうなるでしょうか。"
      ]
    },
    {
      "cell_type": "code",
      "execution_count": 5,
      "metadata": {
        "id": "Qk-KAcsSODrA",
        "outputId": "b4ab8f40-47fe-4105-d76f-44158bf4c9dd",
        "colab": {
          "base_uri": "https://localhost:8080/"
        }
      },
      "outputs": [
        {
          "output_type": "execute_result",
          "data": {
            "text/plain": [
              "3.5"
            ]
          },
          "metadata": {},
          "execution_count": 5
        }
      ],
      "source": [
        "7/2"
      ]
    },
    {
      "cell_type": "code",
      "execution_count": 6,
      "metadata": {
        "id": "eTTPkGS3ODrB",
        "outputId": "1709cce1-aef0-4cbd-a1a9-16089f434a29",
        "colab": {
          "base_uri": "https://localhost:8080/"
        }
      },
      "outputs": [
        {
          "output_type": "execute_result",
          "data": {
            "text/plain": [
              "3"
            ]
          },
          "metadata": {},
          "execution_count": 6
        }
      ],
      "source": [
        "7//2"
      ]
    },
    {
      "cell_type": "markdown",
      "metadata": {
        "id": "B7MlFH2dODrB"
      },
      "source": [
        "Pythonでは、**割り算**（**除算**）は **`/`** で表され、**整数除算**は **`//`** で表されます。\n",
        "`//` は小数部を切り捨てた整数値（**商**）を返します。\n",
        "\n",
        "整数同士の `//` の結果は整数になります。"
      ]
    },
    {
      "cell_type": "code",
      "execution_count": 7,
      "metadata": {
        "id": "aJnvIp4lODrB",
        "outputId": "14e9f02b-67d2-453d-ba34-9aac8068b29f",
        "colab": {
          "base_uri": "https://localhost:8080/"
        }
      },
      "outputs": [
        {
          "output_type": "execute_result",
          "data": {
            "text/plain": [
              "7.0"
            ]
          },
          "metadata": {},
          "execution_count": 7
        }
      ],
      "source": [
        "7/1"
      ]
    },
    {
      "cell_type": "code",
      "execution_count": 8,
      "metadata": {
        "id": "4O81VRboODrC",
        "outputId": "7930bc04-47bf-4e37-8fcf-4aa54b55e389",
        "colab": {
          "base_uri": "https://localhost:8080/"
        }
      },
      "outputs": [
        {
          "output_type": "execute_result",
          "data": {
            "text/plain": [
              "7"
            ]
          },
          "metadata": {},
          "execution_count": 8
        }
      ],
      "source": [
        "7//1"
      ]
    },
    {
      "cell_type": "markdown",
      "metadata": {
        "id": "NsL4ZOo-ODrC"
      },
      "source": [
        "整数除算の**余り**（**剰余**）を求めたいときは、別の演算子 **`%`** を用います。\n",
        "\n",
        "整数同士の `%` の結果は整数になります。"
      ]
    },
    {
      "cell_type": "code",
      "execution_count": 10,
      "metadata": {
        "id": "ErrqiEfcODrC",
        "outputId": "1c621c4f-5885-4f48-a15b-5e09c16d22cc",
        "colab": {
          "base_uri": "https://localhost:8080/"
        }
      },
      "outputs": [
        {
          "output_type": "execute_result",
          "data": {
            "text/plain": [
              "1"
            ]
          },
          "metadata": {},
          "execution_count": 10
        }
      ],
      "source": [
        "7%2"
      ]
    },
    {
      "cell_type": "markdown",
      "metadata": {
        "id": "n6CyNcYxODrC"
      },
      "source": [
        "## コメント\n",
        "Pythonでは一般に、コードの中に **`#`** が出現すると、それ以降、その行の終わりまでが**コメント**になります。\n",
        "コメントは行頭からも、行の途中からでも始めることができます。\n",
        "\n",
        "プログラムの実行時には、コメントは無視されます。"
      ]
    },
    {
      "cell_type": "code",
      "execution_count": null,
      "metadata": {
        "id": "nWUpn_BvODrC"
      },
      "outputs": [],
      "source": [
        "# このように行頭に '#' をおけば、行全体をコメントとすることができます。\n",
        "\n",
        "# 次のようにコード行に続けて直前のコードについての説明をコメントとして書くこともできます。\n",
        "2**10  # 2の10乗を計算します"
      ]
    },
    {
      "cell_type": "code",
      "execution_count": null,
      "metadata": {
        "id": "WFGoymTLODrC"
      },
      "outputs": [],
      "source": [
        "# 次のようにコード行自体をコメントとすることで、その行を無視させる（コメントアウトする）こともよく行われます。\n",
        "# 2**10  # 2の10乗を計算します この行が「コメントアウト」された\n",
        "2**12  # 実は計算したいのは2の12乗でした"
      ]
    },
    {
      "cell_type": "markdown",
      "metadata": {
        "id": "e_NcELebODrC"
      },
      "source": [
        "## 整数と実数\n",
        "Pythonでは、**整数**と小数点のある数（**実数**）は、数学的に同じ数を表す場合でも、\n",
        "コンピュータの中で異なる形式で記憶されますので、表示は異なります。\n",
        "（実数は**浮動小数点数**ともいいます。）"
      ]
    },
    {
      "cell_type": "code",
      "execution_count": 12,
      "metadata": {
        "id": "dDffWBdlODrD",
        "outputId": "f4c90628-22c8-481a-ed08-5c5cab8bb944",
        "colab": {
          "base_uri": "https://localhost:8080/"
        }
      },
      "outputs": [
        {
          "output_type": "execute_result",
          "data": {
            "text/plain": [
              "7.0"
            ]
          },
          "metadata": {},
          "execution_count": 12
        }
      ],
      "source": [
        "7/1"
      ]
    },
    {
      "cell_type": "code",
      "execution_count": 13,
      "metadata": {
        "id": "8RhTx1jvODrD",
        "outputId": "189c3645-4352-4783-c501-d7bb73ef05c3",
        "colab": {
          "base_uri": "https://localhost:8080/"
        }
      },
      "outputs": [
        {
          "output_type": "execute_result",
          "data": {
            "text/plain": [
              "7"
            ]
          },
          "metadata": {},
          "execution_count": 13
        }
      ],
      "source": [
        "7//1"
      ]
    },
    {
      "cell_type": "markdown",
      "metadata": {
        "id": "FGe839AZODrD"
      },
      "source": [
        "しかし、以下のように、比較を行うと両者は等しいものとして扱われます。\n",
        "値同士が等しいかどうかを調べる `==` という演算子については、後で紹介します。"
      ]
    },
    {
      "cell_type": "code",
      "execution_count": 11,
      "metadata": {
        "id": "gLjsjNkyODrD",
        "outputId": "01187cf8-9425-4956-c430-4b4051074f72",
        "colab": {
          "base_uri": "https://localhost:8080/"
        }
      },
      "outputs": [
        {
          "output_type": "execute_result",
          "data": {
            "text/plain": [
              "True"
            ]
          },
          "metadata": {},
          "execution_count": 11
        }
      ],
      "source": [
        "7/1 == 7//1"
      ]
    },
    {
      "cell_type": "markdown",
      "metadata": {
        "id": "AVtXhdd1ODrD"
      },
      "source": [
        "`+` と `-` と `*` と `//` と `%` と `**` では、2つの数が整数ならば結果も整数になります。\n",
        "2つの数が実数であったり、整数と実数が混ざっていたら、結果は実数になります。"
      ]
    },
    {
      "cell_type": "code",
      "execution_count": 14,
      "metadata": {
        "id": "nwUNp-BnODrD",
        "outputId": "efbd0550-8af8-4803-b9a8-298c8a368834",
        "colab": {
          "base_uri": "https://localhost:8080/"
        }
      },
      "outputs": [
        {
          "output_type": "execute_result",
          "data": {
            "text/plain": [
              "7"
            ]
          },
          "metadata": {},
          "execution_count": 14
        }
      ],
      "source": [
        "2+5"
      ]
    },
    {
      "cell_type": "code",
      "execution_count": 15,
      "metadata": {
        "id": "FsJkRv_fODrD",
        "outputId": "6b005001-1bb1-4318-c5fe-ffed3288a31c",
        "colab": {
          "base_uri": "https://localhost:8080/"
        }
      },
      "outputs": [
        {
          "output_type": "execute_result",
          "data": {
            "text/plain": [
              "7.0"
            ]
          },
          "metadata": {},
          "execution_count": 15
        }
      ],
      "source": [
        "2+5.0"
      ]
    },
    {
      "cell_type": "markdown",
      "metadata": {
        "id": "naMsVgiFODrD"
      },
      "source": [
        "`/` の結果は必ず実数となります。"
      ]
    },
    {
      "cell_type": "code",
      "execution_count": 16,
      "metadata": {
        "id": "3CPqzLopODrD",
        "outputId": "67875e90-f82f-4bb7-8897-f914d078381a",
        "colab": {
          "base_uri": "https://localhost:8080/"
        }
      },
      "outputs": [
        {
          "output_type": "execute_result",
          "data": {
            "text/plain": [
              "7.0"
            ]
          },
          "metadata": {},
          "execution_count": 16
        }
      ],
      "source": [
        "7/1"
      ]
    },
    {
      "cell_type": "markdown",
      "metadata": {
        "id": "NYY66q86ODrD"
      },
      "source": [
        "ここで、自分で色々と式を入力してみてください。\n",
        "以下に、いくつかセルを用意しておきます。\n",
        "足りなければ、Insertメニューを使ってセルを追加することができます。"
      ]
    },
    {
      "cell_type": "code",
      "execution_count": 17,
      "metadata": {
        "id": "_VEPhhMKODrE",
        "outputId": "97f89ff4-8601-45f4-ec40-55b4cd9fc8ec",
        "colab": {
          "base_uri": "https://localhost:8080/"
        }
      },
      "outputs": [
        {
          "output_type": "execute_result",
          "data": {
            "text/plain": [
              "7.5"
            ]
          },
          "metadata": {},
          "execution_count": 17
        }
      ],
      "source": [
        "3/2*5"
      ]
    },
    {
      "cell_type": "code",
      "execution_count": 27,
      "metadata": {
        "id": "Pqtg2WwRODrE",
        "outputId": "281f2c40-2d95-49fc-b589-7c893d88fcb6",
        "colab": {
          "base_uri": "https://localhost:8080/"
        }
      },
      "outputs": [
        {
          "output_type": "execute_result",
          "data": {
            "text/plain": [
              "65536"
            ]
          },
          "metadata": {},
          "execution_count": 27
        }
      ],
      "source": [
        "2**16"
      ]
    },
    {
      "cell_type": "code",
      "execution_count": 26,
      "metadata": {
        "id": "RVsVqH0dODrE",
        "outputId": "7f3424ae-29ec-4fda-e6cd-e242f7819884",
        "colab": {
          "base_uri": "https://localhost:8080/"
        }
      },
      "outputs": [
        {
          "output_type": "execute_result",
          "data": {
            "text/plain": [
              "65536"
            ]
          },
          "metadata": {},
          "execution_count": 26
        }
      ],
      "source": []
    },
    {
      "cell_type": "markdown",
      "metadata": {
        "id": "OQByIiS1ODrE"
      },
      "source": [
        "### 実数のべき表示"
      ]
    },
    {
      "cell_type": "code",
      "execution_count": 21,
      "metadata": {
        "id": "sv9C8lg3ODrE",
        "outputId": "21fbd179-e4cd-454d-b0da-37a6f8c3d3e7",
        "colab": {
          "base_uri": "https://localhost:8080/"
        }
      },
      "outputs": [
        {
          "output_type": "execute_result",
          "data": {
            "text/plain": [
              "1.0715086071862673e+301"
            ]
          },
          "metadata": {},
          "execution_count": 21
        }
      ],
      "source": [
        "2.0**1000"
      ]
    },
    {
      "cell_type": "markdown",
      "metadata": {
        "id": "00xfNuEBODrE"
      },
      "source": [
        "非常に大きな実数は、10のべきとともに表示（**べき表示**）されます。\n",
        "`e+301` は10の301乗を意味します。"
      ]
    },
    {
      "cell_type": "code",
      "execution_count": 22,
      "metadata": {
        "id": "C93t79N8ODrE",
        "outputId": "0eae433a-11ac-4bea-ef25-a571b5e760d7",
        "colab": {
          "base_uri": "https://localhost:8080/"
        }
      },
      "outputs": [
        {
          "output_type": "execute_result",
          "data": {
            "text/plain": [
              "9.332636185032189e-302"
            ]
          },
          "metadata": {},
          "execution_count": 22
        }
      ],
      "source": [
        "2.0**-1000"
      ]
    },
    {
      "cell_type": "markdown",
      "metadata": {
        "id": "4sL0XmQRODrE"
      },
      "source": [
        "非常に小さな実数も、10のべきとともに表示されます。\n",
        "`e-302` は10の-302乗を意味します。"
      ]
    },
    {
      "cell_type": "markdown",
      "metadata": {
        "id": "QWMCwHM2ODrE"
      },
      "source": [
        "### いくらでも大きくなる整数"
      ]
    },
    {
      "cell_type": "code",
      "execution_count": 23,
      "metadata": {
        "id": "htawdcyMODrJ",
        "outputId": "1de0a3f6-6aaa-4194-bfe3-1e90ac7d2e8b",
        "colab": {
          "base_uri": "https://localhost:8080/"
        }
      },
      "outputs": [
        {
          "output_type": "execute_result",
          "data": {
            "text/plain": [
              "10715086071862673209484250490600018105614048117055336074437503883703510511249361224931983788156958581275946729175531468251871452856923140435984577574698574803934567774824230985421074605062371141877954182153046474983581941267398767559165543946077062914571196477686542167660429831652624386837205668069376"
            ]
          },
          "metadata": {},
          "execution_count": 23
        }
      ],
      "source": [
        "2**1000"
      ]
    },
    {
      "cell_type": "markdown",
      "metadata": {
        "id": "-_q4MO8KODrJ"
      },
      "source": [
        "このように、Pythonでは整数はいくらでも大きくなります。\n",
        "もちろん、コンピュータのメモリに納まる限りにおいてですが。"
      ]
    },
    {
      "cell_type": "code",
      "execution_count": 24,
      "metadata": {
        "id": "a9ebrLbEODrJ",
        "outputId": "34b1a2f4-9bd3-4598-ff55-24d6396f1415",
        "colab": {
          "base_uri": "https://localhost:8080/",
          "height": 367
        }
      },
      "outputs": [
        {
          "output_type": "error",
          "ename": "ValueError",
          "evalue": "Exceeds the limit (4300) for integer string conversion; use sys.set_int_max_str_digits() to increase the limit",
          "traceback": [
            "\u001b[0;31m---------------------------------------------------------------------------\u001b[0m",
            "\u001b[0;31mValueError\u001b[0m                                Traceback (most recent call last)",
            "\u001b[0;32m/usr/local/lib/python3.10/dist-packages/IPython/core/formatters.py\u001b[0m in \u001b[0;36m__call__\u001b[0;34m(self, obj)\u001b[0m\n\u001b[1;32m    700\u001b[0m                 \u001b[0mtype_pprinters\u001b[0m\u001b[0;34m=\u001b[0m\u001b[0mself\u001b[0m\u001b[0;34m.\u001b[0m\u001b[0mtype_printers\u001b[0m\u001b[0;34m,\u001b[0m\u001b[0;34m\u001b[0m\u001b[0;34m\u001b[0m\u001b[0m\n\u001b[1;32m    701\u001b[0m                 deferred_pprinters=self.deferred_printers)\n\u001b[0;32m--> 702\u001b[0;31m             \u001b[0mprinter\u001b[0m\u001b[0;34m.\u001b[0m\u001b[0mpretty\u001b[0m\u001b[0;34m(\u001b[0m\u001b[0mobj\u001b[0m\u001b[0;34m)\u001b[0m\u001b[0;34m\u001b[0m\u001b[0;34m\u001b[0m\u001b[0m\n\u001b[0m\u001b[1;32m    703\u001b[0m             \u001b[0mprinter\u001b[0m\u001b[0;34m.\u001b[0m\u001b[0mflush\u001b[0m\u001b[0;34m(\u001b[0m\u001b[0;34m)\u001b[0m\u001b[0;34m\u001b[0m\u001b[0;34m\u001b[0m\u001b[0m\n\u001b[1;32m    704\u001b[0m             \u001b[0;32mreturn\u001b[0m \u001b[0mstream\u001b[0m\u001b[0;34m.\u001b[0m\u001b[0mgetvalue\u001b[0m\u001b[0;34m(\u001b[0m\u001b[0;34m)\u001b[0m\u001b[0;34m\u001b[0m\u001b[0;34m\u001b[0m\u001b[0m\n",
            "\u001b[0;32m/usr/local/lib/python3.10/dist-packages/IPython/lib/pretty.py\u001b[0m in \u001b[0;36mpretty\u001b[0;34m(self, obj)\u001b[0m\n\u001b[1;32m    375\u001b[0m                 \u001b[0;32mif\u001b[0m \u001b[0mcls\u001b[0m \u001b[0;32min\u001b[0m \u001b[0mself\u001b[0m\u001b[0;34m.\u001b[0m\u001b[0mtype_pprinters\u001b[0m\u001b[0;34m:\u001b[0m\u001b[0;34m\u001b[0m\u001b[0;34m\u001b[0m\u001b[0m\n\u001b[1;32m    376\u001b[0m                     \u001b[0;31m# printer registered in self.type_pprinters\u001b[0m\u001b[0;34m\u001b[0m\u001b[0;34m\u001b[0m\u001b[0m\n\u001b[0;32m--> 377\u001b[0;31m                     \u001b[0;32mreturn\u001b[0m \u001b[0mself\u001b[0m\u001b[0;34m.\u001b[0m\u001b[0mtype_pprinters\u001b[0m\u001b[0;34m[\u001b[0m\u001b[0mcls\u001b[0m\u001b[0;34m]\u001b[0m\u001b[0;34m(\u001b[0m\u001b[0mobj\u001b[0m\u001b[0;34m,\u001b[0m \u001b[0mself\u001b[0m\u001b[0;34m,\u001b[0m \u001b[0mcycle\u001b[0m\u001b[0;34m)\u001b[0m\u001b[0;34m\u001b[0m\u001b[0;34m\u001b[0m\u001b[0m\n\u001b[0m\u001b[1;32m    378\u001b[0m                 \u001b[0;32melse\u001b[0m\u001b[0;34m:\u001b[0m\u001b[0;34m\u001b[0m\u001b[0;34m\u001b[0m\u001b[0m\n\u001b[1;32m    379\u001b[0m                     \u001b[0;31m# deferred printer\u001b[0m\u001b[0;34m\u001b[0m\u001b[0;34m\u001b[0m\u001b[0m\n",
            "\u001b[0;32m/usr/local/lib/python3.10/dist-packages/IPython/lib/pretty.py\u001b[0m in \u001b[0;36m_repr_pprint\u001b[0;34m(obj, p, cycle)\u001b[0m\n\u001b[1;32m    698\u001b[0m     \u001b[0;34m\"\"\"A pprint that just redirects to the normal repr function.\"\"\"\u001b[0m\u001b[0;34m\u001b[0m\u001b[0;34m\u001b[0m\u001b[0m\n\u001b[1;32m    699\u001b[0m     \u001b[0;31m# Find newlines and replace them with p.break_()\u001b[0m\u001b[0;34m\u001b[0m\u001b[0;34m\u001b[0m\u001b[0m\n\u001b[0;32m--> 700\u001b[0;31m     \u001b[0moutput\u001b[0m \u001b[0;34m=\u001b[0m \u001b[0mrepr\u001b[0m\u001b[0;34m(\u001b[0m\u001b[0mobj\u001b[0m\u001b[0;34m)\u001b[0m\u001b[0;34m\u001b[0m\u001b[0;34m\u001b[0m\u001b[0m\n\u001b[0m\u001b[1;32m    701\u001b[0m     \u001b[0mlines\u001b[0m \u001b[0;34m=\u001b[0m \u001b[0moutput\u001b[0m\u001b[0;34m.\u001b[0m\u001b[0msplitlines\u001b[0m\u001b[0;34m(\u001b[0m\u001b[0;34m)\u001b[0m\u001b[0;34m\u001b[0m\u001b[0;34m\u001b[0m\u001b[0m\n\u001b[1;32m    702\u001b[0m     \u001b[0;32mwith\u001b[0m \u001b[0mp\u001b[0m\u001b[0;34m.\u001b[0m\u001b[0mgroup\u001b[0m\u001b[0;34m(\u001b[0m\u001b[0;34m)\u001b[0m\u001b[0;34m:\u001b[0m\u001b[0;34m\u001b[0m\u001b[0;34m\u001b[0m\u001b[0m\n",
            "\u001b[0;31mValueError\u001b[0m: Exceeds the limit (4300) for integer string conversion; use sys.set_int_max_str_digits() to increase the limit"
          ]
        }
      ],
      "source": [
        "2**2**2**2**2"
      ]
    },
    {
      "cell_type": "markdown",
      "metadata": {
        "id": "Hsrf3alsODrJ"
      },
      "source": [
        "### 整数と実数の間の変換\n",
        "\n",
        "実数を整数に変換するには、**`int`** という関数を用います。\n",
        "（関数に関する一般的な説明は1-2を参照してください。）\n",
        "`int(x)` は、実数 `x` を（`0` の方向に）切り下げた結果を返します。"
      ]
    },
    {
      "cell_type": "code",
      "execution_count": 28,
      "metadata": {
        "id": "mwam7tQiODrK",
        "outputId": "3cb1f8a8-d709-4d83-b3aa-10f5c13ddd41",
        "colab": {
          "base_uri": "https://localhost:8080/"
        }
      },
      "outputs": [
        {
          "output_type": "execute_result",
          "data": {
            "text/plain": [
              "2"
            ]
          },
          "metadata": {},
          "execution_count": 28
        }
      ],
      "source": [
        "int(2.9)"
      ]
    },
    {
      "cell_type": "code",
      "execution_count": 29,
      "metadata": {
        "id": "8K95FA12ODrK",
        "outputId": "5dcc1711-27ad-420c-b786-c063a6bf8f18",
        "colab": {
          "base_uri": "https://localhost:8080/"
        }
      },
      "outputs": [
        {
          "output_type": "execute_result",
          "data": {
            "text/plain": [
              "-2"
            ]
          },
          "metadata": {},
          "execution_count": 29
        }
      ],
      "source": [
        "int(-2.9)"
      ]
    },
    {
      "cell_type": "markdown",
      "metadata": {
        "id": "cvGPSCNVODrK"
      },
      "source": [
        "逆に、整数を実数に変換するには、**`float`** という関数を用います。\n",
        "`float(i)` は、整数 `i` を実数に変換した結果を返します。\n",
        "たとえば `i+0.0` としても、`i` を実数に変換できます。"
      ]
    },
    {
      "cell_type": "code",
      "execution_count": 30,
      "metadata": {
        "id": "Na6lJnL-ODrK",
        "outputId": "f1f08db9-1fb0-425c-e066-063e96318e51",
        "colab": {
          "base_uri": "https://localhost:8080/"
        }
      },
      "outputs": [
        {
          "output_type": "execute_result",
          "data": {
            "text/plain": [
              "2.0"
            ]
          },
          "metadata": {},
          "execution_count": 30
        }
      ],
      "source": [
        "float(2)"
      ]
    },
    {
      "cell_type": "code",
      "execution_count": 31,
      "metadata": {
        "id": "7f7L3vRJODrK",
        "outputId": "694b6cce-28fc-4fb2-c488-e744ba76154a",
        "colab": {
          "base_uri": "https://localhost:8080/"
        }
      },
      "outputs": [
        {
          "output_type": "execute_result",
          "data": {
            "text/plain": [
              "2.0"
            ]
          },
          "metadata": {},
          "execution_count": 31
        }
      ],
      "source": [
        "2+0.0"
      ]
    },
    {
      "cell_type": "markdown",
      "metadata": {
        "id": "OcE2_MFbODrK"
      },
      "source": [
        "### 数値誤差\n",
        "\n",
        "浮動小数点数には、**数値誤差**が不可避です。\n",
        "これは、有限のビット数で、無限に小さくなり得る小数刻みを表現しようとするためです。\n",
        "（参照：[Wikipedia - 浮動小数点数](https://ja.wikipedia.org/wiki/%E6%B5%AE%E5%8B%95%E5%B0%8F%E6%95%B0%E7%82%B9%E6%95%B0#%E3%82%A8%E3%83%A9%E3%83%BC%EF%BC%88%E8%AA%A4%E5%B7%AE%EF%BC%89)）\n",
        "\n",
        "Pythonでは、整数は無限桁で表現されるため、整数演算には誤差が生じません。\n",
        "しかし、整数を実数に変換したときには、一般に誤差が生じます。"
      ]
    },
    {
      "cell_type": "code",
      "execution_count": 33,
      "metadata": {
        "id": "Bvsu2sDZODrK",
        "outputId": "6343db17-6c16-49aa-bd8e-c14fe53f496f",
        "colab": {
          "base_uri": "https://localhost:8080/"
        }
      },
      "outputs": [
        {
          "output_type": "execute_result",
          "data": {
            "text/plain": [
              "1000000000000000000000000000000000000000000000000000000000000"
            ]
          },
          "metadata": {},
          "execution_count": 33
        }
      ],
      "source": [
        "10**60"
      ]
    },
    {
      "cell_type": "code",
      "execution_count": 34,
      "metadata": {
        "id": "3gZTFfXpODrL",
        "outputId": "711c6165-ceb2-418e-fcd4-b95be2258ac2",
        "colab": {
          "base_uri": "https://localhost:8080/"
        }
      },
      "outputs": [
        {
          "output_type": "execute_result",
          "data": {
            "text/plain": [
              "1e+60"
            ]
          },
          "metadata": {},
          "execution_count": 34
        }
      ],
      "source": [
        "float(10**60)"
      ]
    },
    {
      "cell_type": "code",
      "execution_count": 35,
      "metadata": {
        "id": "HS2CELQyODrL",
        "outputId": "bda42587-c068-4304-90c7-5aad46dd21b5",
        "colab": {
          "base_uri": "https://localhost:8080/"
        }
      },
      "outputs": [
        {
          "output_type": "execute_result",
          "data": {
            "text/plain": [
              "999999999999999949387135297074018866963645011013410073083904"
            ]
          },
          "metadata": {},
          "execution_count": 35
        }
      ],
      "source": [
        "int(float(10**60))"
      ]
    },
    {
      "cell_type": "markdown",
      "metadata": {
        "id": "BJnx7gPLODrL"
      },
      "source": [
        "数え上げのような離散的な値を扱う時には、実数を経由せずに、整数のみで演算するようにしましょう。"
      ]
    },
    {
      "cell_type": "markdown",
      "metadata": {
        "id": "tc6ec7LuODrL"
      },
      "source": [
        "## 演算子の優先順位と括弧\n",
        "掛け算や割り算は足し算や引き算よりも先に評価されます。\n",
        "すなわち、掛け算や割り算の方が足し算や引き算よりも**優先順位**が高いと定義されています。\n",
        "\n",
        "**括弧**を使って式の評価順序を指定することができます。\n",
        "\n",
        "なお、数式 $a(b-c)$、$(a-b)(c-d)$ は、それぞれ $a$ と $b-c$、$a-b$ と $c-d$ の積を意味しますが、\n",
        "コードでは、`a*(b-c)` や `(a-b)*(c-d)` のように積の演算子である `*` を明記する必要があることに注意してください。\n",
        "\n",
        "また、数や演算子の間には、自由に空白を入れることができます。（後でもう一度説明します。）"
      ]
    },
    {
      "cell_type": "code",
      "execution_count": 36,
      "metadata": {
        "id": "eTg5FG_QODrL",
        "outputId": "cc660000-4afc-4c87-be72-f632e5b0bddf",
        "colab": {
          "base_uri": "https://localhost:8080/"
        }
      },
      "outputs": [
        {
          "output_type": "execute_result",
          "data": {
            "text/plain": [
              "1"
            ]
          },
          "metadata": {},
          "execution_count": 36
        }
      ],
      "source": [
        "7 - 2 * 3"
      ]
    },
    {
      "cell_type": "code",
      "execution_count": 37,
      "metadata": {
        "id": "MWHmEz0qODrL",
        "outputId": "3f2c35bd-3226-4daf-afe2-7a2b845b9326",
        "colab": {
          "base_uri": "https://localhost:8080/"
        }
      },
      "outputs": [
        {
          "output_type": "execute_result",
          "data": {
            "text/plain": [
              "15"
            ]
          },
          "metadata": {},
          "execution_count": 37
        }
      ],
      "source": [
        "(7 - 2) * 3"
      ]
    },
    {
      "cell_type": "code",
      "execution_count": 38,
      "metadata": {
        "id": "9NM2wXTIODrL",
        "outputId": "7f16b4cc-d0da-443e-9e23-4e8e16a3eac8",
        "colab": {
          "base_uri": "https://localhost:8080/"
        }
      },
      "outputs": [
        {
          "output_type": "execute_result",
          "data": {
            "text/plain": [
              "2"
            ]
          },
          "metadata": {},
          "execution_count": 38
        }
      ],
      "source": [
        "17 - 17//3*3"
      ]
    },
    {
      "cell_type": "code",
      "execution_count": 39,
      "metadata": {
        "id": "EPVGVpJRODrL",
        "outputId": "e9da97a5-98b0-4353-b195-0030688b9518",
        "colab": {
          "base_uri": "https://localhost:8080/"
        }
      },
      "outputs": [
        {
          "output_type": "execute_result",
          "data": {
            "text/plain": [
              "9354238358105289311446368256"
            ]
          },
          "metadata": {},
          "execution_count": 39
        }
      ],
      "source": [
        "56 ** 4 ** 2"
      ]
    },
    {
      "cell_type": "code",
      "execution_count": 40,
      "metadata": {
        "id": "Bjh9TU5uODrM",
        "outputId": "1a10925c-bf08-45d4-a90e-f6533d0a8a08",
        "colab": {
          "base_uri": "https://localhost:8080/"
        }
      },
      "outputs": [
        {
          "output_type": "execute_result",
          "data": {
            "text/plain": [
              "9354238358105289311446368256"
            ]
          },
          "metadata": {},
          "execution_count": 40
        }
      ],
      "source": [
        "56 ** 16"
      ]
    },
    {
      "cell_type": "markdown",
      "metadata": {
        "id": "YNBkcHnuODrM"
      },
      "source": [
        "上の例では、`4**2` が先に評価されて、`56**16` が計算されます。\n",
        "つまり、`x**y**z` = `x**(y**z)` が成り立ちます。\n",
        "このことをもって、`**` は右に結合するといいます。"
      ]
    },
    {
      "cell_type": "code",
      "execution_count": 41,
      "metadata": {
        "id": "JQl7CdJYODrM",
        "outputId": "27ab36f3-1963-43a1-c6f1-2bb6b7d430e8",
        "colab": {
          "base_uri": "https://localhost:8080/"
        }
      },
      "outputs": [
        {
          "output_type": "execute_result",
          "data": {
            "text/plain": [
              "1.0"
            ]
          },
          "metadata": {},
          "execution_count": 41
        }
      ],
      "source": [
        "16/8/2"
      ]
    },
    {
      "cell_type": "code",
      "execution_count": 42,
      "metadata": {
        "id": "JgnL7nWDODrM",
        "outputId": "952e750a-f9e4-470a-bcd7-ded7e3ea93b4",
        "colab": {
          "base_uri": "https://localhost:8080/"
        }
      },
      "outputs": [
        {
          "output_type": "execute_result",
          "data": {
            "text/plain": [
              "1.0"
            ]
          },
          "metadata": {},
          "execution_count": 42
        }
      ],
      "source": [
        "\n",
        " (16/8)/2"
      ]
    },
    {
      "cell_type": "markdown",
      "metadata": {
        "id": "eUp7OHzWODrM"
      },
      "source": [
        "上の例では、`16/8` が先に評価されて、`2/2` が計算されます。\n",
        "つまり、`x/y/z` = `(x/y)/z` が成り立ちます。\n",
        "このことをもって、`/` は左に結合するといいます。"
      ]
    },
    {
      "cell_type": "markdown",
      "metadata": {
        "id": "eFuOLlMsODrP"
      },
      "source": [
        "`*` と `/` をまぜても左に結合します。"
      ]
    },
    {
      "cell_type": "code",
      "execution_count": 43,
      "metadata": {
        "id": "f_OkvnsOODrP",
        "outputId": "f5ddf4f8-24b4-4c91-d522-47223d9814d1",
        "colab": {
          "base_uri": "https://localhost:8080/"
        }
      },
      "outputs": [
        {
          "output_type": "execute_result",
          "data": {
            "text/plain": [
              "15.0"
            ]
          },
          "metadata": {},
          "execution_count": 43
        }
      ],
      "source": [
        "10/2*3"
      ]
    },
    {
      "cell_type": "markdown",
      "metadata": {
        "id": "JDMHxMOjODrP"
      },
      "source": [
        "以上のように、演算子によって式の評価の順番がかわりますので注意してください。\n",
        "\n",
        "ではまた、自分で色々と式を入力してみてください。\n",
        "以下に、いくつかセルを用意しておきます。"
      ]
    },
    {
      "cell_type": "code",
      "execution_count": 44,
      "metadata": {
        "id": "gs60THbOODrP",
        "outputId": "94f3cf4d-822b-4d7d-ba7f-b1a174b4e6e7",
        "colab": {
          "base_uri": "https://localhost:8080/"
        }
      },
      "outputs": [
        {
          "output_type": "execute_result",
          "data": {
            "text/plain": [
              "0.625"
            ]
          },
          "metadata": {},
          "execution_count": 44
        }
      ],
      "source": [
        "10/2**2**2"
      ]
    },
    {
      "cell_type": "code",
      "execution_count": null,
      "metadata": {
        "id": "Q8EZgRk9ODrQ"
      },
      "outputs": [],
      "source": []
    },
    {
      "cell_type": "code",
      "execution_count": null,
      "metadata": {
        "id": "8aNnhLnLODrQ"
      },
      "outputs": [],
      "source": []
    },
    {
      "cell_type": "markdown",
      "metadata": {
        "id": "3LB92y8PODrQ"
      },
      "source": [
        "### 単項の `+` と `-`"
      ]
    },
    {
      "cell_type": "markdown",
      "metadata": {
        "id": "SsMo6XJOODrQ"
      },
      "source": [
        "**`+`** と **`-`** は、単項の演算子（**単項演算子**）としても使えます。\n",
        "（これらの演算子の後に1つだけ数が書かれます。\n",
        "前と後の両方に数が書かれる演算子は**2項演算子**と言います。）"
      ]
    },
    {
      "cell_type": "code",
      "execution_count": 45,
      "metadata": {
        "id": "0d60nQ53ODrQ",
        "outputId": "1c81c59f-b53f-4a06-f519-d99013493f58",
        "colab": {
          "base_uri": "https://localhost:8080/"
        }
      },
      "outputs": [
        {
          "output_type": "execute_result",
          "data": {
            "text/plain": [
              "-3"
            ]
          },
          "metadata": {},
          "execution_count": 45
        }
      ],
      "source": [
        "-3"
      ]
    },
    {
      "cell_type": "code",
      "execution_count": 46,
      "metadata": {
        "id": "LZydAcTnODrQ",
        "outputId": "badb3217-4b28-47be-adf1-3491d3b3a551",
        "colab": {
          "base_uri": "https://localhost:8080/"
        }
      },
      "outputs": [
        {
          "output_type": "execute_result",
          "data": {
            "text/plain": [
              "3"
            ]
          },
          "metadata": {},
          "execution_count": 46
        }
      ],
      "source": [
        "+3"
      ]
    },
    {
      "cell_type": "markdown",
      "metadata": {
        "id": "aP9nbsOxODrQ"
      },
      "source": [
        "## 算術演算子のまとめ\n",
        "\n",
        "算術演算子を、評価の優先順位にしたがって、すなわち結合力の強い順にまとめておきましょう。\n",
        "\n",
        "まず、2項のべき演算子 `**` が最も強く結合します。\n",
        "`**` は右の方から計算され、このことを「右に結合する」と表します。\n",
        "\n",
        "次に、単項の `+` と `-` が強く結合します。\n",
        "なお、 `**` の右側に単項の `+` や `-` がある場合は、`+` と `-` がより強く結合します。\n",
        "例えば、 `-10 ** 2` では `**` がより強く結合し `-100` となり、 `10 ** -2` では `-` がより強く結合し `0.01` となります。\n",
        "\n",
        "その次に、2項の `*` と `/` と `//` と `%` が強く結合します。これらは左に結合します。\n",
        "\n",
        "最後に、2項の `+` と `-` は最も弱く結合します。これらも左に結合します。"
      ]
    },
    {
      "cell_type": "markdown",
      "metadata": {
        "id": "BMODfK-IODrR"
      },
      "source": [
        "## 空白\n",
        "既に `7 - 2 * 3` のような例が出てきましたが、\n",
        "演算子と数の間や、演算子と変数（後述）の間には、空白を入れることができます。\n",
        "ここで**空白**とは、**半角の空白**のことで、英数字と同様に1バイトの文字コードに含まれているものです。\n",
        "\n",
        "複数の文字から成る演算子、たとえば `**` や `//` の間に空白を入れることはできません。\n",
        "エラーになることでしょう。"
      ]
    },
    {
      "cell_type": "code",
      "execution_count": 47,
      "metadata": {
        "id": "Yfq6bR0PODrR",
        "outputId": "8101b930-c048-4ef4-908d-56845d225ab8",
        "colab": {
          "base_uri": "https://localhost:8080/"
        }
      },
      "outputs": [
        {
          "output_type": "execute_result",
          "data": {
            "text/plain": [
              "49"
            ]
          },
          "metadata": {},
          "execution_count": 47
        }
      ],
      "source": [
        "7 **2"
      ]
    },
    {
      "cell_type": "code",
      "execution_count": 48,
      "metadata": {
        "tags": [
          "raises-exception"
        ],
        "id": "stcg2EhqODrR",
        "outputId": "74e6c511-54b7-4d69-c605-a63a6dc6b4a3",
        "colab": {
          "base_uri": "https://localhost:8080/",
          "height": 109
        }
      },
      "outputs": [
        {
          "output_type": "error",
          "ename": "SyntaxError",
          "evalue": "invalid syntax (<ipython-input-48-a8c53e2964d9>, line 1)",
          "traceback": [
            "\u001b[0;36m  File \u001b[0;32m\"<ipython-input-48-a8c53e2964d9>\"\u001b[0;36m, line \u001b[0;32m1\u001b[0m\n\u001b[0;31m    7* *2\u001b[0m\n\u001b[0m       ^\u001b[0m\n\u001b[0;31mSyntaxError\u001b[0m\u001b[0;31m:\u001b[0m invalid syntax\n"
          ]
        }
      ],
      "source": [
        "7* *2"
      ]
    },
    {
      "cell_type": "markdown",
      "metadata": {
        "id": "fxlU22PrODrR"
      },
      "source": [
        "### 全角の空白\n",
        "日本語文字コードである***全角の空白***は、空白とはみなされませんので注意してください。"
      ]
    },
    {
      "cell_type": "code",
      "execution_count": 49,
      "metadata": {
        "tags": [
          "raises-exception"
        ],
        "id": "49AFxdAAODrR",
        "outputId": "06814676-32ee-4b76-a03f-eb53302e8781",
        "colab": {
          "base_uri": "https://localhost:8080/",
          "height": 109
        }
      },
      "outputs": [
        {
          "output_type": "error",
          "ename": "SyntaxError",
          "evalue": "invalid decimal literal (<ipython-input-49-266e892b3f31>, line 1)",
          "traceback": [
            "\u001b[0;36m  File \u001b[0;32m\"<ipython-input-49-266e892b3f31>\"\u001b[0;36m, line \u001b[0;32m1\u001b[0m\n\u001b[0;31m    7　**2\u001b[0m\n\u001b[0m    ^\u001b[0m\n\u001b[0;31mSyntaxError\u001b[0m\u001b[0;31m:\u001b[0m invalid decimal literal\n"
          ]
        }
      ],
      "source": [
        "7　**2"
      ]
    },
    {
      "cell_type": "markdown",
      "metadata": {
        "id": "11elQ3LjODrR"
      },
      "source": [
        "## エラー\n",
        "色々と試していると、**エラー**が起こることもあったでしょう。\n",
        "以下は典型的なエラーです。"
      ]
    },
    {
      "cell_type": "code",
      "execution_count": 50,
      "metadata": {
        "tags": [
          "raises-exception"
        ],
        "id": "l44s4j-aODrR",
        "outputId": "75cd00d4-2b13-40d8-f392-315727db4470",
        "colab": {
          "base_uri": "https://localhost:8080/",
          "height": 145
        }
      },
      "outputs": [
        {
          "output_type": "error",
          "ename": "ZeroDivisionError",
          "evalue": "division by zero",
          "traceback": [
            "\u001b[0;31m---------------------------------------------------------------------------\u001b[0m",
            "\u001b[0;31mZeroDivisionError\u001b[0m                         Traceback (most recent call last)",
            "\u001b[0;32m<ipython-input-50-e574edb36883>\u001b[0m in \u001b[0;36m<cell line: 1>\u001b[0;34m()\u001b[0m\n\u001b[0;32m----> 1\u001b[0;31m \u001b[0;36m10\u001b[0m\u001b[0;34m/\u001b[0m\u001b[0;36m0\u001b[0m\u001b[0;34m\u001b[0m\u001b[0;34m\u001b[0m\u001b[0m\n\u001b[0m",
            "\u001b[0;31mZeroDivisionError\u001b[0m: division by zero"
          ]
        }
      ],
      "source": [
        "10/0"
      ]
    },
    {
      "cell_type": "markdown",
      "metadata": {
        "id": "iM9ROT14ODrR"
      },
      "source": [
        "このエラーは、ゼロによる割り算を行ったためです。\n",
        "**実行時エラー**の典型的なものです。\n",
        "\n",
        "エラーが起こった場合は、修正して評価し直すことができます。\n",
        "上の例で、0 をたとえば 3 に書き換えて評価し直してみてください。"
      ]
    },
    {
      "cell_type": "code",
      "execution_count": 51,
      "metadata": {
        "tags": [
          "raises-exception"
        ],
        "id": "40mhB5MwODrS",
        "outputId": "93a29268-5b5b-4e0f-f13f-eb6866362713",
        "colab": {
          "base_uri": "https://localhost:8080/"
        }
      },
      "outputs": [
        {
          "output_type": "execute_result",
          "data": {
            "text/plain": [
              "3.3333333333333335"
            ]
          },
          "metadata": {},
          "execution_count": 51
        }
      ],
      "source": [
        "10/3"
      ]
    },
    {
      "cell_type": "markdown",
      "metadata": {
        "id": "8Va-MVLsODrS"
      },
      "source": [
        "こちらのエラーは**構文エラー**です。\n",
        "つまり、入力がPythonの構文に違反しているため実行できなかったのです。"
      ]
    },
    {
      "cell_type": "markdown",
      "metadata": {
        "id": "rIasNKDEODrS"
      },
      "source": [
        "## 数学関数（モジュールのインポート）"
      ]
    },
    {
      "cell_type": "code",
      "execution_count": 52,
      "metadata": {
        "id": "fgwiqktCODrS"
      },
      "outputs": [],
      "source": [
        "import math"
      ]
    },
    {
      "cell_type": "code",
      "execution_count": 53,
      "metadata": {
        "id": "f91KuMvVODrS",
        "outputId": "f7188719-f603-4f86-ad02-0fb42da0d335",
        "colab": {
          "base_uri": "https://localhost:8080/"
        }
      },
      "outputs": [
        {
          "output_type": "execute_result",
          "data": {
            "text/plain": [
              "1.4142135623730951"
            ]
          },
          "metadata": {},
          "execution_count": 53
        }
      ],
      "source": [
        "math.sqrt(2)"
      ]
    },
    {
      "cell_type": "markdown",
      "metadata": {
        "id": "XgC0lTeFODrS"
      },
      "source": [
        "数学関係の各種の関数は、**モジュール**（**ライブラリ**）として提供されています。\n",
        "これらの関数を使いたいときは、上のように、**`import`** で始まる\n",
        "`import math` というおまじないを一度唱えます。\n",
        "そうしますと、**`math`** というライブラリが読み込まれて（**インポート**されて）、\n",
        "`math.関数名` という形で関数を用いることができます。\n",
        "上の例では、平方根を計算する **`math.sqrt`** という関数が用いられています。"
      ]
    },
    {
      "cell_type": "markdown",
      "metadata": {
        "id": "BVO_3eoaODrS"
      },
      "source": [
        "もう少し例をあげておきましょう。sinとcosは **`math.sin`** と **`math.cos`** で求まります。"
      ]
    },
    {
      "cell_type": "code",
      "execution_count": 54,
      "metadata": {
        "id": "b_q2SfZiODrS",
        "outputId": "819dbf51-f203-4a73-f08a-eac0ae182f1c",
        "colab": {
          "base_uri": "https://localhost:8080/"
        }
      },
      "outputs": [
        {
          "output_type": "execute_result",
          "data": {
            "text/plain": [
              "0.0"
            ]
          },
          "metadata": {},
          "execution_count": 54
        }
      ],
      "source": [
        "math.sin(0)"
      ]
    },
    {
      "cell_type": "code",
      "execution_count": 55,
      "metadata": {
        "id": "y9Zs-wOgODrT",
        "outputId": "b5b0817c-dc8a-4f8b-f3f2-e9b9238a574f",
        "colab": {
          "base_uri": "https://localhost:8080/"
        }
      },
      "outputs": [
        {
          "output_type": "execute_result",
          "data": {
            "text/plain": [
              "3.141592653589793"
            ]
          },
          "metadata": {},
          "execution_count": 55
        }
      ],
      "source": [
        "math.pi"
      ]
    },
    {
      "cell_type": "markdown",
      "metadata": {
        "id": "RsQXBycpODrT"
      },
      "source": [
        "**`math.pi`** は、円周率を値とする変数です。\n",
        "\n",
        "変数については後に説明されます。"
      ]
    },
    {
      "cell_type": "code",
      "execution_count": 56,
      "metadata": {
        "id": "Cc2lQeYWODrT",
        "outputId": "fc61e0dd-fb12-4960-bd46-83c86498f932",
        "colab": {
          "base_uri": "https://localhost:8080/"
        }
      },
      "outputs": [
        {
          "output_type": "execute_result",
          "data": {
            "text/plain": [
              "1.2246467991473532e-16"
            ]
          },
          "metadata": {},
          "execution_count": 56
        }
      ],
      "source": [
        "math.sin(math.pi)"
      ]
    },
    {
      "cell_type": "markdown",
      "metadata": {
        "id": "guerU3b7ODrT"
      },
      "source": [
        "この結果は本当は 0 にならなければならないのですが、\n",
        "数値誤差のためにこのようになっています。"
      ]
    },
    {
      "cell_type": "code",
      "execution_count": 57,
      "metadata": {
        "id": "NDXMcbs1ODrT",
        "outputId": "8dc2c314-a0f2-4b79-8c4f-28da58819796",
        "colab": {
          "base_uri": "https://localhost:8080/"
        }
      },
      "outputs": [
        {
          "output_type": "execute_result",
          "data": {
            "text/plain": [
              "1.0"
            ]
          },
          "metadata": {},
          "execution_count": 57
        }
      ],
      "source": [
        "math.sin(math.pi/2)"
      ]
    },
    {
      "cell_type": "code",
      "execution_count": 58,
      "metadata": {
        "id": "yvYyfguQODrT",
        "outputId": "8c4f0eba-0e41-42a1-be31-ac9643e187b0",
        "colab": {
          "base_uri": "https://localhost:8080/"
        }
      },
      "outputs": [
        {
          "output_type": "execute_result",
          "data": {
            "text/plain": [
              "1.414213562373095"
            ]
          },
          "metadata": {},
          "execution_count": 58
        }
      ],
      "source": [
        "math.sin(math.pi/4) * 2"
      ]
    },
    {
      "cell_type": "markdown",
      "metadata": {
        "id": "_q5XgwVhODrT"
      },
      "source": [
        "## 練習"
      ]
    },
    {
      "cell_type": "markdown",
      "metadata": {
        "id": "kwCLiT3AODrT"
      },
      "source": [
        "黄金比を求めてください。黄金比とは、5 の平方根に 1 を加えて 2 で割ったものです。約 1.618 になるはずです。"
      ]
    },
    {
      "cell_type": "code",
      "execution_count": 59,
      "metadata": {
        "id": "ttc7HUcNODrT",
        "outputId": "4b768559-9210-4406-92f5-0c769fc6cd49",
        "colab": {
          "base_uri": "https://localhost:8080/"
        }
      },
      "outputs": [
        {
          "output_type": "execute_result",
          "data": {
            "text/plain": [
              "1.618033988749895"
            ]
          },
          "metadata": {},
          "execution_count": 59
        }
      ],
      "source": [
        "(math.sqrt(5) + 1 )/2"
      ]
    },
    {
      "cell_type": "code",
      "source": [],
      "metadata": {
        "id": "TyXw4ogYUhwl"
      },
      "execution_count": null,
      "outputs": []
    }
  ],
  "metadata": {
    "kernelspec": {
      "display_name": "Python 3 (ipykernel)",
      "language": "python",
      "name": "python3"
    },
    "language_info": {
      "codemirror_mode": {
        "name": "ipython",
        "version": 3
      },
      "file_extension": ".py",
      "mimetype": "text/x-python",
      "name": "python",
      "nbconvert_exporter": "python",
      "pygments_lexer": "ipython3",
      "version": "3.12.4"
    },
    "colab": {
      "provenance": []
    }
  },
  "nbformat": 4,
  "nbformat_minor": 0
}